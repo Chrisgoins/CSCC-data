jupyter nbconvert --to notebook --inplace YourNotebook.ipynb
