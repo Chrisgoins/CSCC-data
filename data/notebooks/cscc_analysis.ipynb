{
 "cells": [
  {
   "cell_type": "code",
   "execution_count": null,
   "metadata": {},
   "outputs": [],
   "source": [
    "# CSCC Data Analysis\n",
    "import pandas as pd\n",
    "import matplotlib.pyplot as plt\n",
    "\n",
    "# Load the halo profile data\n",
    "data = pd.read_csv('../data/halo_profiles.csv')\n",
    "print(\"CSCC Density Profiles:\")\n",
    "print(data.head())"
   ]
  },
  {
   "cell_type": "code",
   "execution_count": null,
   "metadata": {},
   "outputs": [],
   "source": [
    "# Simple visualization\n",
    "plt.figure(figsize=(8,5))\n",
    "plt.plot(data['radius_kpc'], data['density_cscc'], 'b-', label='CSCC')\n",
    "plt.plot(data['radius_kpc'], data['density_lcdm'], 'r--', label='ΛCDM')\n",
    "plt.xscale('log')\n",
    "plt.yscale('log')\n",
    "plt.xlabel('Radius (kpc)')\n",
    "plt.ylabel('Density')\n",
    "plt.legend()\n",
    "plt.title('Halo Profile Comparison')\n",
    "plt.show()"
   ]
  }
 ],
 "metadata": {
  "kernelspec": {
   "display_name": "Python 3",
   "language": "python",
   "name": "python3"
  },
  "language_info": {
   "codemirror_mode": {
    "name": "ipython",
    "version": 3
   },
   "file_extension": ".py",
   "mimetype": "text/x-python",
   "name": "python",
   "nbconvert_exporter": "python",
   "pygments_lexer": "ipython3",
   "version": "3.8.5"
  }
 },
 "nbformat": 4,
 "nbformat_minor": 4
}
import matplotlib.pyplot as plt
import numpy as np

r = np.logspace(0, 2, 100)  # 1-100 kpc in log scale
plt.figure(figsize=(8,5))
plt.plot(r, 5*r**(-0.5), 'b-', label='CSCC')
plt.plot(r, 8*r**(-1), 'r--', label=r'$\Lambda$CDM')
plt.xscale('log')
plt.yscale('log')
plt.xlabel('Radius (kpc)')
plt.ylabel(r'Density $\rho(r)$')
plt.legend()
plt.savefig('halo_profile.pdf', bbox_inches='tight')
