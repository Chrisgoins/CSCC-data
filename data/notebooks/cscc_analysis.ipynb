{
 "cells": [
  {
   "cell_type": "code",
   "execution_count": null,
   "metadata": {},
   "outputs": [],
   "source": [
    "# CSCC Data Analysis\n",
    "import pandas as pd\n",
    "import matplotlib.pyplot as plt\n",
    "\n",
    "# Load the halo profile data\n",
    "data = pd.read_csv('../data/halo_profiles.csv')\n",
    "print(\"CSCC Density Profiles:\")\n",
    "print(data.head())"
   ]
  },
  {
   "cell_type": "code",
   "execution_count": null,
   "metadata": {},
   "outputs": [],
   "source": [
    "# Simple visualization\n",
    "plt.figure(figsize=(8,5))\n",
    "plt.plot(data['radius_kpc'], data['density_cscc'], 'b-', label='CSCC')\n",
    "plt.plot(data['radius_kpc'], data['density_lcdm'], 'r--', label='ΛCDM')\n",
    "plt.xscale('log')\n",
    "plt.yscale('log')\n",
    "plt.xlabel('Radius (kpc)')\n",
    "plt.ylabel('Density')\n",
    "plt.legend()\n",
    "plt.title('Halo Profile Comparison')\n",
    "plt.show()"
   ]
  }
 ],
 "metadata": {
  "kernelspec": {
   "display_name": "Python 3",
   "language": "python",
   "name": "python3"
  },
  "language_info": {
   "codemirror_mode": {
    "name": "ipython",
    "version": 3
   },
   "file_extension": ".py",
   "mimetype": "text/x-python",
   "name": "python",
   "nbconvert_exporter": "python",
   "pygments_lexer": "ipython3",
   "version": "3.8.5"
  }
 },
 "nbformat": 4,
 "nbformat_minor": 4
}
