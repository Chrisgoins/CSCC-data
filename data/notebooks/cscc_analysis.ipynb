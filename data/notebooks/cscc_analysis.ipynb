import os
print(os.path.exists("../data/halo_profiles.csv"))
