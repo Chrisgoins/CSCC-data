```python
     # Simple Starter Notebook
     import pandas as pd
     data = pd.read_csv('../data/halo_profiles.csv')
     print("CSCC Density Profiles:")
     print(data.head())
     ```
