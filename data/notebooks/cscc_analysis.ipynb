# Enhanced visualization with theoretical curves
plt.figure(figsize=(10,6))

# Plot your data
plt.plot(data['radius_kpc'], data['density_cscc'], 'b-', label='CSCC (data)')
plt.plot(data['radius_kpc'], data['density_lcdm'], 'r--', label=r'$\Lambda$CDM (data)')

# Add theoretical curves
r = np.logspace(0, 2, 100)  # 1-100 kpc
plt.plot(r, 5*r**(-0.5), 'b:', label='CSCC theory ($r^{-0.5}$)')
plt.plot(r, 8*r**(-1), 'r-.', label=r'$\Lambda$CDM theory ($r^{-1}$)')

plt.xscale('log')
plt.yscale('log')
plt.xlabel('Radius (kpc)')
plt.ylabel(r'Density $\rho(r)$')
plt.legend()
plt.grid(True, which="both", ls="--")
plt.savefig('halo_profile.pdf', bbox_inches='tight', dpi=300)
