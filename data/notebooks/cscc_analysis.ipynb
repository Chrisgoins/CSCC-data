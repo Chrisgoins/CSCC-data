# ======================
# CSCC HALO PROFILE VISUALIZATION
# ======================

import numpy as np
import matplotlib.pyplot as plt
import pandas as pd

# Load observational data
data = pd.read_csv('../data/halo_profiles.csv')

# Create theoretical curves
r = np.logspace(0, 2, 500)  # 1-100 kpc (500 log-spaced points)
cscc_theory = 5 * r**(-0.5)  # CSCC predicted profile
lcdm_theory = 8 * r**(-1)    # ΛCDM NFW profile

# Initialize plot
plt.figure(figsize=(10, 6))

# Plot observational data
plt.plot(data['radius_kpc'], data['density_cscc'], 
         'bo-', markersize=5, linewidth=1.5, 
         label='CSCC (SPARC data)')
plt.plot(data['radius_kpc'], data['density_lcdm'], 
         'rs--', markersize=5, linewidth=1.5,
         label=r'$\Lambda$CDM (SPARC data)')

# Plot theoretical predictions
plt.plot(r, cscc_theory, 'b:', linewidth=2.5, 
         label=r'CSCC theory ($5r^{-0.5}$)')
plt.plot(r, lcdm_theory, 'r-.', linewidth=2.5, 
         label=r'$\Lambda$CDM theory ($8r^{-1}$)')

# Formatting
plt.xscale('log')
plt.yscale('log')
plt.xlabel('Radius (kpc)', fontsize=12)
plt.ylabel(r'Density $\rho(r)$ ($M_\odot$/kpc$^3$)', fontsize=12)
plt.title('Halo Density Profile Comparison', fontsize=14)

# Legend and grid
plt.legend(fontsize=11, framealpha=0.9)
plt.grid(True, which="both", ls=":", alpha=0.7)

# Save publication-quality figure
plt.savefig('../figures/halo_profile_comparison.pdf', 
            bbox_inches='tight', 
            dpi=300, 
            format='pdf')

# Display in notebook
plt.show()
