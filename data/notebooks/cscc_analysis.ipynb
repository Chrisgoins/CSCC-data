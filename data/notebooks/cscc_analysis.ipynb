data = pd.read_csv(os.path.join("..", "data", "halo_profiles.csv"))
